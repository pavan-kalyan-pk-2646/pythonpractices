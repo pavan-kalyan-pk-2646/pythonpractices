{
 "cells": [
  {
   "cell_type": "code",
   "execution_count": 3,
   "id": "23af9301-c24d-47a2-9c36-11c363880bb4",
   "metadata": {},
   "outputs": [],
   "source": [
    "import numpy as np"
   ]
  },
  {
   "cell_type": "code",
   "execution_count": 6,
   "id": "6b609924-b0e2-4ce2-b56b-474cc2612533",
   "metadata": {},
   "outputs": [
    {
     "data": {
      "text/plain": [
       "[1, 2, 3, 4, 5]"
      ]
     },
     "execution_count": 6,
     "metadata": {},
     "output_type": "execute_result"
    }
   ],
   "source": [
    "arr=([1,2,3,4,5])\n",
    "arr"
   ]
  },
  {
   "cell_type": "code",
   "execution_count": 7,
   "id": "e769f2b4-321c-4797-9123-4cebe8f23ecf",
   "metadata": {},
   "outputs": [
    {
     "data": {
      "text/plain": [
       "[1, 2, 3, 4, 5]"
      ]
     },
     "execution_count": 7,
     "metadata": {},
     "output_type": "execute_result"
    }
   ],
   "source": [
    "arr"
   ]
  },
  {
   "cell_type": "code",
   "execution_count": 8,
   "id": "688c9d6e-ae07-452e-a46d-6acf2fa5b5ce",
   "metadata": {},
   "outputs": [
    {
     "data": {
      "text/plain": [
       "list"
      ]
     },
     "execution_count": 8,
     "metadata": {},
     "output_type": "execute_result"
    }
   ],
   "source": [
    "type(arr)"
   ]
  },
  {
   "cell_type": "code",
   "execution_count": 10,
   "id": "724732d9-5fed-4a8a-8061-fe69e8ff66a8",
   "metadata": {},
   "outputs": [
    {
     "data": {
      "text/plain": [
       "[[1, 2.8, 3, 4], [5.9, 6, 7, 8], [9, 10, 11, 12]]"
      ]
     },
     "execution_count": 10,
     "metadata": {},
     "output_type": "execute_result"
    }
   ],
   "source": [
    "my_matrix=[[1,2.8,3,4],[5.9,6,7,8],[9,10,11,12]]\n",
    "my_matrix"
   ]
  },
  {
   "cell_type": "code",
   "execution_count": 11,
   "id": "0f8e9dbe-79e3-46eb-a124-03881499d1d0",
   "metadata": {},
   "outputs": [
    {
     "data": {
      "text/plain": [
       "array([[ 1. ,  2.8,  3. ,  4. ],\n",
       "       [ 5.9,  6. ,  7. ,  8. ],\n",
       "       [ 9. , 10. , 11. , 12. ]])"
      ]
     },
     "execution_count": 11,
     "metadata": {},
     "output_type": "execute_result"
    }
   ],
   "source": [
    "b=np.array(my_matrix)\n",
    "b"
   ]
  },
  {
   "cell_type": "code",
   "execution_count": 13,
   "id": "6dd84671-de56-4748-b17b-95c361743999",
   "metadata": {},
   "outputs": [
    {
     "name": "stdout",
     "output_type": "stream",
     "text": [
      "The Dimension of Array 2\n"
     ]
    }
   ],
   "source": [
    "print(\"The Dimension of Array\",b.ndim)"
   ]
  },
  {
   "cell_type": "code",
   "execution_count": 15,
   "id": "9404320e-5e3a-4dda-894f-6509262efc5d",
   "metadata": {},
   "outputs": [
    {
     "name": "stdout",
     "output_type": "stream",
     "text": [
      "The Size of Array 12\n"
     ]
    }
   ],
   "source": [
    "print(\"The Size of Array\",b.size)"
   ]
  },
  {
   "cell_type": "code",
   "execution_count": 16,
   "id": "302f046b-f504-4bf1-905d-0bcbc261b2dc",
   "metadata": {},
   "outputs": [
    {
     "name": "stdout",
     "output_type": "stream",
     "text": [
      "The Datatype of Array float64\n"
     ]
    }
   ],
   "source": [
    "print(\"The Datatype of Array\",b.dtype)"
   ]
  },
  {
   "cell_type": "code",
   "execution_count": 18,
   "id": "7f3c50ff-6ec0-4557-8984-c4610fbcbece",
   "metadata": {},
   "outputs": [],
   "source": [
    "import numpy as np\n",
    "int8_arr=np.array([1,2,3],dtype=np.int8)\n",
    "int16_arr=np.array([1000,-2000,3000],dtype=np.int16)\n",
    "int32_arr=np.array([-100000,200000,300000],dtype=np.int32)\n",
    "int64_arr=np.array([1000000000,2000000000],dtype=np.int64)"
   ]
  },
  {
   "cell_type": "code",
   "execution_count": 19,
   "id": "1788c419-17a2-4084-a9f1-ae773c010656",
   "metadata": {},
   "outputs": [],
   "source": [
    "uint8_arr=np.array([0,255,100],dtype=np.uint8)\n",
    "uint16_arr=np.array([1000,60000],dtype=np.uint16)"
   ]
  },
  {
   "cell_type": "code",
   "execution_count": 20,
   "id": "7c4c59d0-6608-4a74-9413-8998a6d9ee04",
   "metadata": {},
   "outputs": [],
   "source": [
    "float16_arr=np.array([1.1,-2.2,3.3],dtype=np.float16)\n",
    "float32_arr=np.array([1.123456,2.654321],dtype=np.float32)\n",
    "float64_arr=np.array([1.123456789,-2.987654321],dtype=np.float64)"
   ]
  },
  {
   "cell_type": "code",
   "execution_count": 21,
   "id": "759cc12a-8065-40c0-bec5-db1b4293bc83",
   "metadata": {},
   "outputs": [],
   "source": [
    "complex64_arr=np.array([1+2j,3+4j],dtype=np.complex64)\n",
    "complex128_arr=np.array([1+2j,3+4j],dtype=np.complex128)"
   ]
  },
  {
   "cell_type": "code",
   "execution_count": 22,
   "id": "06f1da26-f9f6-490d-8707-de2fc3c0b8a8",
   "metadata": {},
   "outputs": [
    {
     "name": "stdout",
     "output_type": "stream",
     "text": [
      "bool: [ True False  True] bool\n",
      "----------------------------------------\n"
     ]
    }
   ],
   "source": [
    "bool_arr=np.array([True,False,True],dtype=bool)\n",
    "print(\"bool:\",bool_arr,bool_arr.dtype)\n",
    "print(\"-\" * 40)"
   ]
  },
  {
   "cell_type": "code",
   "execution_count": 28,
   "id": "c15c399d-1e1e-4425-a99a-c6cec76f0235",
   "metadata": {},
   "outputs": [],
   "source": [
    "string_arr=np.array([\"apple\",\"banana\",\"cherry\"],dtype='<U10')"
   ]
  },
  {
   "cell_type": "code",
   "execution_count": 30,
   "id": "6cfbf878-0702-41e7-864b-4c636141f13a",
   "metadata": {},
   "outputs": [],
   "source": [
    "object_arr=np.array([1,\"two\",3.0,True],dtype=object)"
   ]
  },
  {
   "cell_type": "code",
   "execution_count": null,
   "id": "9d0360f1-f3f3-4204-9eac-7162db8e4fdf",
   "metadata": {},
   "outputs": [],
   "source": []
  }
 ],
 "metadata": {
  "kernelspec": {
   "display_name": "Python [conda env:base] *",
   "language": "python",
   "name": "conda-base-py"
  },
  "language_info": {
   "codemirror_mode": {
    "name": "ipython",
    "version": 3
   },
   "file_extension": ".py",
   "mimetype": "text/x-python",
   "name": "python",
   "nbconvert_exporter": "python",
   "pygments_lexer": "ipython3",
   "version": "3.13.5"
  }
 },
 "nbformat": 4,
 "nbformat_minor": 5
}
